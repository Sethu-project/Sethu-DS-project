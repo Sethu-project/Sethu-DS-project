{
 "cells": [
  {
   "cell_type": "code",
   "execution_count": 28,
   "id": "5f1a9b42",
   "metadata": {},
   "outputs": [],
   "source": [
    "import mysql.connector\n",
    "\n",
    "config = {\n",
    "    'host': 'gateway01.ap-southeast-1.prod.aws.tidbcloud.com',\n",
    "    'port': 4000,\n",
    "    'user': '31ZrixPLoJcBFtY.root',\n",
    "    'password': 'xAwaevomY9b1ldSM',\n",
    "    'ssl_verify_cert': False\n",
    "}\n",
    "\n",
    "sethu = mysql.connector.connect(**config)\n",
    "raman = sethu.cursor()"
   ]
  },
  {
   "cell_type": "code",
   "execution_count": 2,
   "id": "246ab5d6",
   "metadata": {},
   "outputs": [],
   "source": [
    "raman.execute(\"create database Placement_Portal\")"
   ]
  },
  {
   "cell_type": "code",
   "execution_count": 29,
   "id": "9e4e6e57",
   "metadata": {},
   "outputs": [],
   "source": [
    "## Establising connection with sql \n",
    "config = {\n",
    "    'host': 'gateway01.ap-southeast-1.prod.aws.tidbcloud.com',\n",
    "    'port': 4000,\n",
    "    'user': '31ZrixPLoJcBFtY.root',\n",
    "    'password': 'xAwaevomY9b1ldSM',\n",
    "    'database': 'Placement_Portal'\n",
    "    \n",
    "}\n",
    "\n",
    "sethu = mysql.connector.connect(**config)\n",
    "raman = sethu.cursor()"
   ]
  },
  {
   "cell_type": "code",
   "execution_count": 4,
   "id": "e24a4cb7",
   "metadata": {},
   "outputs": [
    {
     "name": "stdout",
     "output_type": "stream",
     "text": [
      "Student table has been created successfully\n"
     ]
    }
   ],
   "source": [
    "## Create Student table to store the basic information\n",
    "\n",
    "raman.execute(\"\"\"CREATE TABLE IF NOT EXISTS student_table\n",
    "              (student_id INT, name varchar(60),\n",
    "             age int, gender varchar(6),\n",
    "             email varchar(55), phone varchar(35),\n",
    "             enrollment_year int, course_batch varchar (10),\n",
    "             city varchar(45), graduation_year int,\n",
    "             CONSTRAINT pk_student PRIMARY KEY (student_id) );\"\"\")\n",
    "\n",
    "print(\"Student table has been created successfully\")"
   ]
  },
  {
   "cell_type": "code",
   "execution_count": 5,
   "id": "139aaf33",
   "metadata": {},
   "outputs": [
    {
     "name": "stdout",
     "output_type": "stream",
     "text": [
      "Programming Table has been created successfully\n"
     ]
    }
   ],
   "source": [
    "## Create Programming table to store the basic information\n",
    "\n",
    "raman.execute(\"\"\"CREATE TABLE IF NOT EXISTS programming_table(programming_id int, \n",
    "                             student_id int,\n",
    "                             language varchar(35), problems_solved int,\n",
    "                             assessments_completed int,   mini_projects int,\n",
    "                             certifications_earned int, latest_project_score int,\n",
    "                             PRIMARY KEY (programming_id),\n",
    "                             CONSTRAINT fk_programme FOREIGN KEY (student_id)\n",
    "                             REFERENCES student_table(student_id));\"\"\")\n",
    "\n",
    "print(\"Programming Table has been created successfully\")"
   ]
  },
  {
   "cell_type": "code",
   "execution_count": 7,
   "id": "83cd0a08",
   "metadata": {},
   "outputs": [
    {
     "name": "stdout",
     "output_type": "stream",
     "text": [
      "Soft Skill table has been created successfully\n"
     ]
    }
   ],
   "source": [
    "## Create Soft Skill table to store the basic information\n",
    "\n",
    "raman.execute(\"\"\"CREATE TABLE IF NOT EXISTS soft_skill_table(soft_skill_id int,\n",
    "             student_id int, communication int, team_work int,\n",
    "             presentation int, leadership int,\n",
    "             critical_thinking int, interpersonal_skill int,\n",
    "             PRIMARY KEY (soft_skill_id),\n",
    "             CONSTRAINT fk_softskill FOREIGN KEY (student_id) REFERENCES student_table(student_id));\"\"\")\n",
    "\n",
    "print(\"Soft Skill table has been created successfully\")\n"
   ]
  },
  {
   "cell_type": "code",
   "execution_count": 31,
   "id": "d4c94ce9",
   "metadata": {},
   "outputs": [
    {
     "name": "stdout",
     "output_type": "stream",
     "text": [
      "Placement Table has been created successfully\n"
     ]
    }
   ],
   "source": [
    "## Create Placement Table to store the basic information\n",
    "\n",
    "raman.execute(\"\"\" CREATE TABLE IF NOT EXISTS placement_table\n",
    "              (placement_id INT PRIMARY KEY AUTO_INCREMENT,\n",
    "              student_id int, mock_interview_score int,\n",
    "              internships_completed int, placement_status varchar(20),\n",
    "              company_name varchar(100), placement_package int,\n",
    "              interview_rounds_cleared int, placement_date date,\n",
    "              FOREIGN KEY (student_id)\n",
    "              REFERENCES student_table(student_id));\"\"\")\n",
    "\n",
    "print(\"Placement Table has been created successfully\")"
   ]
  },
  {
   "cell_type": "code",
   "execution_count": 9,
   "id": "8dd74c04",
   "metadata": {},
   "outputs": [],
   "source": [
    "## Establising connection with sql \n",
    "config = {\n",
    "    'host': 'gateway01.ap-southeast-1.prod.aws.tidbcloud.com',\n",
    "    'port': 4000,\n",
    "    'user': '31ZrixPLoJcBFtY.root',\n",
    "    'password': 'xAwaevomY9b1ldSM',\n",
    "    'database': 'Placement_Portal'\n",
    "    \n",
    "}\n",
    "\n",
    "sethu = mysql.connector.connect(**config)\n",
    "raman = sethu.cursor()"
   ]
  },
  {
   "cell_type": "code",
   "execution_count": 10,
   "id": "4e9b2a13",
   "metadata": {},
   "outputs": [
    {
     "name": "stdout",
     "output_type": "stream",
     "text": [
      "Requirement already satisfied: faker in d:\\vscode\\.venv\\lib\\site-packages (37.4.0)\n",
      "Requirement already satisfied: mysql-connector-python in d:\\vscode\\.venv\\lib\\site-packages (9.3.0)\n",
      "Requirement already satisfied: tzdata in d:\\vscode\\.venv\\lib\\site-packages (from faker) (2025.2)\n"
     ]
    }
   ],
   "source": [
    "!pip install faker mysql-connector-python\n",
    "import pandas as pd\n",
    "import mysql.connector\n",
    "from faker import Faker\n",
    "import random\n",
    "\n",
    "fake = Faker()"
   ]
  },
  {
   "cell_type": "code",
   "execution_count": 11,
   "id": "66251601",
   "metadata": {},
   "outputs": [
    {
     "name": "stdout",
     "output_type": "stream",
     "text": [
      "Data inserted into Student Table successfully\n"
     ]
    }
   ],
   "source": [
    "## Student Data kept ready for use \n",
    "data = []\n",
    "\n",
    "for i in range(200):\n",
    "    student_id = f\"{100 + i}\"\n",
    "    name = fake.name()\n",
    "    age = random.randint(18, 25)\n",
    "    gender = random.choice(['Male', 'Female','Others'])\n",
    "    email = fake.email()\n",
    "    phone = fake.msisdn()[:10]  # Trim to 10 digits\n",
    "    enrollment_year = random.choice([2018, 2019, 2020, 2021])\n",
    "    course_batch = random.choice(['CS-A', 'IT-B', 'ME-C', 'EC-D', 'CE-E'])\n",
    "    city = fake.city()\n",
    "    graduation_year = enrollment_year + 4\n",
    "\n",
    "    data.append([student_id, name, age, gender, email, phone,\n",
    "                 enrollment_year, course_batch, city, graduation_year])\n",
    "\n",
    "columns = ['student_id', 'name', 'age', 'gender', 'email', 'phone',\n",
    "           'enrollment_year', 'course_batch', 'city', 'graduation_year']\n",
    "\n",
    "student_df = pd.DataFrame(data, columns=columns)\n",
    "student_df.head()\n",
    "\n",
    "print(\"Data inserted into Student Table successfully\")"
   ]
  },
  {
   "cell_type": "code",
   "execution_count": 12,
   "id": "9fff5450",
   "metadata": {},
   "outputs": [],
   "source": [
    "student_df.to_csv('student_table.csv', index=False)  # Data saved to Student_table"
   ]
  },
  {
   "cell_type": "code",
   "execution_count": 14,
   "id": "8c831b36",
   "metadata": {},
   "outputs": [],
   "source": [
    "## Establising connection with sql \n",
    "config = {\n",
    "    'host': 'gateway01.ap-southeast-1.prod.aws.tidbcloud.com',\n",
    "    'port': 4000,\n",
    "    'user': '31ZrixPLoJcBFtY.root',\n",
    "    'password': 'xAwaevomY9b1ldSM',\n",
    "    'database': 'Placement_Portal'\n",
    "    \n",
    "}\n",
    "\n",
    "sethu = mysql.connector.connect(**config)\n",
    "raman = sethu.cursor()"
   ]
  },
  {
   "cell_type": "code",
   "execution_count": 15,
   "id": "15a4fa5b",
   "metadata": {},
   "outputs": [
    {
     "name": "stdout",
     "output_type": "stream",
     "text": [
      "Data inserted into Student Table successfully\n"
     ]
    }
   ],
   "source": [
    "## Data inserted into Student table\n",
    "for _, row in student_df.iterrows():\n",
    "    values = tuple(row[col] for col in columns)\n",
    "    raman.execute(\"\"\"\n",
    "        INSERT INTO student_table (\n",
    "            student_id, name, age, gender, email, phone,\n",
    "            enrollment_year, course_batch, city, graduation_year\n",
    "        ) VALUES (%s, %s, %s, %s, %s, %s, %s, %s, %s, %s);\n",
    "    \"\"\", values)\n",
    "\n",
    "sethu.commit()\n",
    "\n",
    "print(\"Data inserted into Student Table successfully\")"
   ]
  },
  {
   "cell_type": "code",
   "execution_count": 16,
   "id": "f02c8b03",
   "metadata": {},
   "outputs": [
    {
     "name": "stdout",
     "output_type": "stream",
     "text": [
      "Requirement already satisfied: faker in d:\\vscode\\.venv\\lib\\site-packages (37.4.0)\n",
      "Requirement already satisfied: mysql-connector-python in d:\\vscode\\.venv\\lib\\site-packages (9.3.0)\n",
      "Requirement already satisfied: tzdata in d:\\vscode\\.venv\\lib\\site-packages (from faker) (2025.2)\n"
     ]
    }
   ],
   "source": [
    "!pip install faker mysql-connector-python\n",
    "import pandas as pd\n",
    "import mysql.connector\n",
    "from faker import Faker\n",
    "import random\n",
    "\n",
    "fake = Faker()"
   ]
  },
  {
   "cell_type": "code",
   "execution_count": 17,
   "id": "3083b0ec",
   "metadata": {},
   "outputs": [],
   "source": [
    "## Establising connection with sql \n",
    "config = {\n",
    "    'host': 'gateway01.ap-southeast-1.prod.aws.tidbcloud.com',\n",
    "    'port': 4000,\n",
    "    'user': '31ZrixPLoJcBFtY.root',\n",
    "    'password': 'xAwaevomY9b1ldSM',\n",
    "    'database': 'Placement_Portal'\n",
    "    \n",
    "}\n",
    "\n",
    "sethu = mysql.connector.connect(**config)\n",
    "raman = sethu.cursor()"
   ]
  },
  {
   "cell_type": "code",
   "execution_count": 18,
   "id": "1ee49027",
   "metadata": {},
   "outputs": [
    {
     "name": "stdout",
     "output_type": "stream",
     "text": [
      "Data for Programming Table has been created\n"
     ]
    }
   ],
   "source": [
    "# Data kept ready for use for Programming table\n",
    "data1 = []\n",
    "\n",
    "for i in range(200):\n",
    "    programming_id = f\"{1000 + i}\"\n",
    "    student_id = f\"{100 + i}\"\n",
    "    language = random.choice([\"Python\", \"Java\", \"C++\", \"JavaScript\", \"Go\", \"Rust\"])\n",
    "    problems_solved = random.randint(1, 20)\n",
    "    assessments_completed = random.randint(2, 8)\n",
    "    mini_projects = random.randint(1, 5)\n",
    "    certifications_earned = random.randint(0, 3)\n",
    "    latest_project_score = random.randint(40, 100)\n",
    "\n",
    "    data1.append([programming_id, student_id, language, problems_solved,\n",
    "                  assessments_completed, mini_projects, certifications_earned, latest_project_score])\n",
    "\n",
    "\n",
    "columns = ['programming_id', 'student_id', 'language', 'problems_solved',\n",
    "                  'assessments_completed', 'mini_projects', 'certifications_earned', 'latest_project_score']\n",
    "\n",
    "\n",
    "programming_df = pd.DataFrame(data1, columns=columns)\n",
    "programming_df.head()\n",
    "\n",
    "print(\"Data for Programming Table has been created\")"
   ]
  },
  {
   "cell_type": "code",
   "execution_count": 19,
   "id": "369e876b",
   "metadata": {},
   "outputs": [],
   "source": [
    "programming_df.to_csv('programming_table.csv', index=False) # Data saved to a file named programming_table"
   ]
  },
  {
   "cell_type": "code",
   "execution_count": 20,
   "id": "8becd20f",
   "metadata": {},
   "outputs": [],
   "source": [
    "## Establising connection with sql \n",
    "\n",
    "config = {\n",
    "    'host': 'gateway01.ap-southeast-1.prod.aws.tidbcloud.com',\n",
    "    'port': 4000,\n",
    "    'user': '31ZrixPLoJcBFtY.root',\n",
    "    'password': 'xAwaevomY9b1ldSM',\n",
    "    'database': 'Placement_Portal'\n",
    "    \n",
    "}\n",
    "\n",
    "sethu = mysql.connector.connect(**config)\n",
    "raman = sethu.cursor()"
   ]
  },
  {
   "cell_type": "code",
   "execution_count": 21,
   "id": "0329de77",
   "metadata": {},
   "outputs": [
    {
     "name": "stdout",
     "output_type": "stream",
     "text": [
      "Data inserted into Programming Table\n"
     ]
    }
   ],
   "source": [
    "# Data insertion to Programming Table\n",
    "\n",
    "for _, row in programming_df.iterrows():\n",
    "    values = tuple(row[col] for col in columns)\n",
    "    raman.execute(\"\"\"\n",
    "        INSERT INTO programming_table(programming_id, student_id,\n",
    "        language, problems_solved,\n",
    "        assessments_completed, mini_projects, certifications_earned, latest_project_score\n",
    "        ) VALUES (%s, %s, %s, %s, %s, %s, %s, %s);\n",
    "    \"\"\", values)\n",
    "\n",
    "sethu.commit()\n",
    "\n",
    "print(\"Data inserted into Programming Table\")"
   ]
  },
  {
   "cell_type": "code",
   "execution_count": 22,
   "id": "23e750f9",
   "metadata": {},
   "outputs": [],
   "source": [
    "## Establising connection with sql \n",
    "config = {\n",
    "    'host': 'gateway01.ap-southeast-1.prod.aws.tidbcloud.com',\n",
    "    'port': 4000,\n",
    "    'user': '31ZrixPLoJcBFtY.root',\n",
    "    'password': 'xAwaevomY9b1ldSM',\n",
    "    'database': 'Placement_Portal'\n",
    "    \n",
    "}\n",
    "\n",
    "sethu = mysql.connector.connect(**config)\n",
    "raman = sethu.cursor()"
   ]
  },
  {
   "cell_type": "code",
   "execution_count": 23,
   "id": "694f4318",
   "metadata": {},
   "outputs": [
    {
     "name": "stdout",
     "output_type": "stream",
     "text": [
      "Requirement already satisfied: faker in d:\\vscode\\.venv\\lib\\site-packages (37.4.0)\n",
      "Requirement already satisfied: mysql-connector-python in d:\\vscode\\.venv\\lib\\site-packages (9.3.0)\n",
      "Requirement already satisfied: tzdata in d:\\vscode\\.venv\\lib\\site-packages (from faker) (2025.2)\n"
     ]
    }
   ],
   "source": [
    "!pip install faker mysql-connector-python\n",
    "import pandas as pd\n",
    "import mysql.connector\n",
    "from faker import Faker\n",
    "import random\n",
    "\n",
    "fake = Faker()"
   ]
  },
  {
   "cell_type": "code",
   "execution_count": 24,
   "id": "862d8837",
   "metadata": {},
   "outputs": [
    {
     "name": "stdout",
     "output_type": "stream",
     "text": [
      "Data for Soft Skill table has been created\n"
     ]
    }
   ],
   "source": [
    "# Data generation for Soft skill Table\n",
    "\n",
    "data2 = []\n",
    "\n",
    "for i in range(200):\n",
    "\n",
    "    soft_skill_id = f\"{2000 + i}\"\n",
    "    student_id = f\"{100 + i}\"\n",
    "    communication = random.randint(40, 100)\n",
    "    team_work = random.randint(40, 100)\n",
    "    presentation = random.randint(40, 100)\n",
    "    leadership = random.randint(40, 100)\n",
    "    critical_thinking = random.randint(40, 100)\n",
    "    interpersonal_skill = random.randint(40, 100)\n",
    "\n",
    "    data2.append([soft_skill_id, student_id, communication, team_work,\n",
    "                  presentation, leadership, critical_thinking, interpersonal_skill])\n",
    "\n",
    "\n",
    "columns = ['soft_skill_id', 'student_id', 'communication', 'team_work',\n",
    "                  'presentation', 'leadership', 'critical_thinking', 'interpersonal_skill']\n",
    "\n",
    "\n",
    "soft_skill_df = pd.DataFrame(data2, columns=columns)\n",
    "soft_skill_df.head()\n",
    "\n",
    "print(\"Data for Soft Skill table has been created\")"
   ]
  },
  {
   "cell_type": "code",
   "execution_count": 25,
   "id": "3fdce057",
   "metadata": {},
   "outputs": [],
   "source": [
    "soft_skill_df.to_csv('soft_skill_table.csv', index=False) # Data saved to a file named soft_skill_table"
   ]
  },
  {
   "cell_type": "code",
   "execution_count": 26,
   "id": "ceb56b17",
   "metadata": {},
   "outputs": [],
   "source": [
    "## Establising connection with sql \n",
    "config = {\n",
    "    'host': 'gateway01.ap-southeast-1.prod.aws.tidbcloud.com',\n",
    "    'port': 4000,\n",
    "    'user': '31ZrixPLoJcBFtY.root',\n",
    "    'password': 'xAwaevomY9b1ldSM',\n",
    "    'database': 'Placement_Portal'\n",
    "    \n",
    "}\n",
    "\n",
    "sethu = mysql.connector.connect(**config)\n",
    "raman = sethu.cursor()"
   ]
  },
  {
   "cell_type": "code",
   "execution_count": 27,
   "id": "66871d80",
   "metadata": {},
   "outputs": [
    {
     "name": "stdout",
     "output_type": "stream",
     "text": [
      "Data inserted into soft Skill table\n"
     ]
    }
   ],
   "source": [
    "# Data insertion into Soft skill table\n",
    "\n",
    "for _, row in soft_skill_df.iterrows():\n",
    "    values = tuple(row[col] for col in columns)\n",
    "    raman.execute(\"\"\"\n",
    "        INSERT INTO soft_skill_table(soft_skill_id, student_id,\n",
    "        communication, team_work, presentation, leadership,\n",
    "        critical_thinking, interpersonal_skill\n",
    "        ) VALUES (%s, %s, %s, %s, %s, %s, %s, %s);\n",
    "    \"\"\", values)\n",
    "\n",
    "sethu.commit()\n",
    "\n",
    "print(\"Data inserted into soft Skill table\")"
   ]
  },
  {
   "cell_type": "code",
   "execution_count": 16,
   "id": "65f3c6e8",
   "metadata": {},
   "outputs": [],
   "source": [
    "import mysql.connector\n",
    "## Establising connection with sql \n",
    "config = {\n",
    "    'host': 'gateway01.ap-southeast-1.prod.aws.tidbcloud.com',\n",
    "    'port': 4000,\n",
    "    'user': '31ZrixPLoJcBFtY.root',\n",
    "    'password': 'xAwaevomY9b1ldSM',\n",
    "    'database': 'Placement_Portal'\n",
    "    \n",
    "}\n",
    "\n",
    "sethu = mysql.connector.connect(**config)\n",
    "raman = sethu.cursor()"
   ]
  },
  {
   "cell_type": "code",
   "execution_count": 15,
   "id": "97d430c1",
   "metadata": {},
   "outputs": [
    {
     "name": "stdout",
     "output_type": "stream",
     "text": [
      "Requirement already satisfied: faker in d:\\vscode\\.venv\\lib\\site-packages (37.4.0)\n",
      "Requirement already satisfied: mysql-connector-python in d:\\vscode\\.venv\\lib\\site-packages (9.3.0)\n",
      "Requirement already satisfied: tzdata in d:\\vscode\\.venv\\lib\\site-packages (from faker) (2025.2)\n"
     ]
    }
   ],
   "source": [
    "!pip install faker mysql-connector-python\n",
    "import pandas as pd\n",
    "import mysql.connector\n",
    "from faker import Faker\n",
    "import random\n",
    "from datetime import date\n",
    "fake = Faker()"
   ]
  },
  {
   "cell_type": "code",
   "execution_count": 52,
   "id": "b264e45e",
   "metadata": {},
   "outputs": [
    {
     "name": "stdout",
     "output_type": "stream",
     "text": [
      "Existing data in placement_table has been deleted.\n"
     ]
    }
   ],
   "source": [
    "raman.execute(\"DELETE FROM placement_table;\")\n",
    "sethu.commit()\n",
    "print(\"Existing data in placement_table has been deleted.\")\n"
   ]
  },
  {
   "cell_type": "code",
   "execution_count": 7,
   "id": "3350763c",
   "metadata": {},
   "outputs": [],
   "source": [
    "import pandas as pd\n",
    "import random\n",
    "from datetime import datetime, timedelta\n",
    "\n",
    "# Assume student IDs are from 101 to 300 (total 200 students)\n",
    "student_ids = list(range(101, 301))\n",
    "\n",
    "# Generate dummy performance data for programming and soft skills\n",
    "programming_data = {\n",
    "    'student_id': student_ids,\n",
    "    'problems_solved': [random.randint(5, 20) for _ in student_ids],\n",
    "    'assessments_completed': [random.randint(2, 8) for _ in student_ids],\n",
    "    'mini_projects': [random.randint(1, 5) for _ in student_ids]\n",
    "}\n",
    "\n",
    "soft_skill_data = {\n",
    "    'student_id': student_ids,\n",
    "    'communication': [random.randint(5, 10) for _ in student_ids],\n",
    "    'team_work': [random.randint(5, 10) for _ in student_ids],\n",
    "    'presentation': [random.randint(5, 10) for _ in student_ids],\n",
    "    'leadership': [random.randint(5, 10) for _ in student_ids],\n",
    "    'critical_thinking': [random.randint(5, 10) for _ in student_ids],\n",
    "    'interpersonal_skill': [random.randint(5, 10) for _ in student_ids]\n",
    "}\n",
    "\n",
    "programming_df = pd.DataFrame(programming_data)\n",
    "softskill_df = pd.DataFrame(soft_skill_data)\n",
    "\n",
    "# Merge both datasets\n",
    "merged_df = pd.merge(programming_df, softskill_df, on='student_id')\n",
    "\n",
    "# Calculate eligibility scores\n",
    "merged_df['programming_score'] = (\n",
    "    (merged_df['problems_solved'] / 15) * 0.4 +\n",
    "    (merged_df['assessments_completed'] / 5) * 0.3 +\n",
    "    (merged_df['mini_projects'] / 3) * 0.3\n",
    ").clip(upper=1.0)\n",
    "\n",
    "merged_df['soft_skill_score'] = (\n",
    "    merged_df[['communication', 'team_work', 'presentation',\n",
    "               'leadership', 'critical_thinking', 'interpersonal_skill']].mean(axis=1) / 10\n",
    ")\n",
    "\n",
    "merged_df['final_score'] = (\n",
    "    (merged_df['programming_score'] + merged_df['soft_skill_score']) / 2\n",
    ") * 100\n",
    "\n",
    "# Placement eligibility\n",
    "merged_df['mock_interview_score'] = [random.randint(40, 95) for _ in merged_df.index]\n",
    "merged_df['internships_completed'] = [random.randint(0, 3) for _ in merged_df.index]\n",
    "\n",
    "# Define placement status\n",
    "def determine_status(score):\n",
    "    if score >= 80:\n",
    "        return \"Placed\"\n",
    "    elif score >= 70:\n",
    "        return \"Ready\"\n",
    "    else:\n",
    "        return \"Not Ready\"\n",
    "\n",
    "merged_df['placement_status'] = merged_df['final_score'].apply(determine_status)\n",
    "\n",
    "# Add placement details for 'Placed'\n",
    "companies = ['TCS', 'Wipro', 'Infosys', 'Google', 'Microsoft', 'Amazon', 'Capgemini', 'IBM']\n",
    "\n",
    "def get_company(row):\n",
    "    return random.choice(companies) if row['placement_status'] == 'Placed' else None\n",
    "\n",
    "def get_package(row):\n",
    "    return random.randint(6, 30) if row['placement_status'] == 'Placed' else None\n",
    "\n",
    "def get_rounds(row):\n",
    "    return random.randint(2, 5) if row['placement_status'] == 'Placed' else None\n",
    "\n",
    "def get_date(row):\n",
    "    return (datetime.today() - timedelta(days=random.randint(1, 30))).date() if row['placement_status'] == 'Placed' else None\n",
    "\n",
    "merged_df['company_name'] = merged_df.apply(get_company, axis=1)\n",
    "merged_df['placement_package'] = merged_df.apply(get_package, axis=1)\n",
    "merged_df['interview_rounds_cleared'] = merged_df.apply(get_rounds, axis=1)\n",
    "merged_df['placement_date'] = merged_df.apply(get_date, axis=1)\n",
    "\n",
    "# Final placement DataFrame\n",
    "placement_df = merged_df[[\n",
    "    'student_id', 'mock_interview_score', 'internships_completed',\n",
    "    'placement_status', 'company_name', 'placement_package',\n",
    "    'interview_rounds_cleared', 'placement_date'\n",
    "]]\n"
   ]
  },
  {
   "cell_type": "code",
   "execution_count": 8,
   "id": "937a52bc",
   "metadata": {},
   "outputs": [],
   "source": [
    "placement_df = placement_df.where(pd.notnull(placement_df), None)\n"
   ]
  },
  {
   "cell_type": "code",
   "execution_count": 12,
   "id": "9375a173",
   "metadata": {},
   "outputs": [],
   "source": [
    "# Load valid student_ids from student_table\n",
    "raman.execute(\"SELECT student_id FROM student_table\")\n",
    "valid_ids = set([row[0] for row in raman.fetchall()])\n",
    "\n",
    "# Filter placement_df to keep only valid student_ids\n",
    "placement_df = placement_df[placement_df['student_id'].isin(valid_ids)]\n"
   ]
  },
  {
   "cell_type": "code",
   "execution_count": 17,
   "id": "5a9347f3",
   "metadata": {},
   "outputs": [
    {
     "name": "stdout",
     "output_type": "stream",
     "text": [
      "200 Records inserted successfully into Placement Table.\n"
     ]
    }
   ],
   "source": [
    "for _, row in placement_df.iterrows():\n",
    "    raman.execute(\"\"\"\n",
    "        INSERT INTO placement_table (\n",
    "            student_id, mock_interview_score, internships_completed,\n",
    "            placement_status, company_name, placement_package,\n",
    "            interview_rounds_cleared, placement_date\n",
    "        )\n",
    "        VALUES (%s, %s, %s, %s, %s, %s, %s, %s)\n",
    "    \"\"\", (\n",
    "        int(row['student_id']),\n",
    "        int(row['mock_interview_score']) if pd.notna(row['mock_interview_score']) else None,\n",
    "        int(row['internships_completed']) if pd.notna(row['internships_completed']) else None,\n",
    "        row['placement_status'],\n",
    "        row['company_name'] if pd.notna(row['company_name']) else None,\n",
    "        int(row['placement_package']) if pd.notna(row['placement_package']) else None,\n",
    "        int(row['interview_rounds_cleared']) if pd.notna(row['interview_rounds_cleared']) else None,\n",
    "        str(row['placement_date']) if pd.notna(row['placement_date']) else None\n",
    "    ))\n",
    "\n",
    "sethu.commit()\n",
    "raman.close()\n",
    "\n",
    "print(\"200 Records inserted successfully into Placement Table.\")"
   ]
  },
  {
   "cell_type": "code",
   "execution_count": 19,
   "id": "cad9d061",
   "metadata": {},
   "outputs": [
    {
     "data": {
      "text/html": [
       "<div>\n",
       "<style scoped>\n",
       "    .dataframe tbody tr th:only-of-type {\n",
       "        vertical-align: middle;\n",
       "    }\n",
       "\n",
       "    .dataframe tbody tr th {\n",
       "        vertical-align: top;\n",
       "    }\n",
       "\n",
       "    .dataframe thead th {\n",
       "        text-align: right;\n",
       "    }\n",
       "</style>\n",
       "<table border=\"1\" class=\"dataframe\">\n",
       "  <thead>\n",
       "    <tr style=\"text-align: right;\">\n",
       "      <th></th>\n",
       "      <th>student_id</th>\n",
       "      <th>mock_interview_score</th>\n",
       "      <th>internships_completed</th>\n",
       "      <th>placement_status</th>\n",
       "      <th>company_name</th>\n",
       "      <th>placement_package</th>\n",
       "      <th>interview_rounds_cleared</th>\n",
       "      <th>placement_date</th>\n",
       "    </tr>\n",
       "  </thead>\n",
       "  <tbody>\n",
       "    <tr>\n",
       "      <th>0</th>\n",
       "      <td>101</td>\n",
       "      <td>47</td>\n",
       "      <td>3</td>\n",
       "      <td>Ready</td>\n",
       "      <td>None</td>\n",
       "      <td>NaN</td>\n",
       "      <td>NaN</td>\n",
       "      <td>None</td>\n",
       "    </tr>\n",
       "    <tr>\n",
       "      <th>1</th>\n",
       "      <td>102</td>\n",
       "      <td>74</td>\n",
       "      <td>2</td>\n",
       "      <td>Placed</td>\n",
       "      <td>Wipro</td>\n",
       "      <td>10.0</td>\n",
       "      <td>2.0</td>\n",
       "      <td>2025-06-22</td>\n",
       "    </tr>\n",
       "    <tr>\n",
       "      <th>2</th>\n",
       "      <td>103</td>\n",
       "      <td>71</td>\n",
       "      <td>1</td>\n",
       "      <td>Placed</td>\n",
       "      <td>Amazon</td>\n",
       "      <td>22.0</td>\n",
       "      <td>3.0</td>\n",
       "      <td>2025-07-03</td>\n",
       "    </tr>\n",
       "    <tr>\n",
       "      <th>3</th>\n",
       "      <td>104</td>\n",
       "      <td>77</td>\n",
       "      <td>0</td>\n",
       "      <td>Placed</td>\n",
       "      <td>Amazon</td>\n",
       "      <td>21.0</td>\n",
       "      <td>4.0</td>\n",
       "      <td>2025-07-21</td>\n",
       "    </tr>\n",
       "    <tr>\n",
       "      <th>4</th>\n",
       "      <td>105</td>\n",
       "      <td>49</td>\n",
       "      <td>1</td>\n",
       "      <td>Ready</td>\n",
       "      <td>None</td>\n",
       "      <td>NaN</td>\n",
       "      <td>NaN</td>\n",
       "      <td>None</td>\n",
       "    </tr>\n",
       "    <tr>\n",
       "      <th>...</th>\n",
       "      <td>...</td>\n",
       "      <td>...</td>\n",
       "      <td>...</td>\n",
       "      <td>...</td>\n",
       "      <td>...</td>\n",
       "      <td>...</td>\n",
       "      <td>...</td>\n",
       "      <td>...</td>\n",
       "    </tr>\n",
       "    <tr>\n",
       "      <th>194</th>\n",
       "      <td>295</td>\n",
       "      <td>44</td>\n",
       "      <td>2</td>\n",
       "      <td>Placed</td>\n",
       "      <td>Capgemini</td>\n",
       "      <td>19.0</td>\n",
       "      <td>5.0</td>\n",
       "      <td>2025-06-26</td>\n",
       "    </tr>\n",
       "    <tr>\n",
       "      <th>195</th>\n",
       "      <td>296</td>\n",
       "      <td>71</td>\n",
       "      <td>0</td>\n",
       "      <td>Placed</td>\n",
       "      <td>Capgemini</td>\n",
       "      <td>11.0</td>\n",
       "      <td>4.0</td>\n",
       "      <td>2025-07-17</td>\n",
       "    </tr>\n",
       "    <tr>\n",
       "      <th>196</th>\n",
       "      <td>297</td>\n",
       "      <td>45</td>\n",
       "      <td>3</td>\n",
       "      <td>Placed</td>\n",
       "      <td>Infosys</td>\n",
       "      <td>11.0</td>\n",
       "      <td>2.0</td>\n",
       "      <td>2025-07-17</td>\n",
       "    </tr>\n",
       "    <tr>\n",
       "      <th>197</th>\n",
       "      <td>298</td>\n",
       "      <td>54</td>\n",
       "      <td>3</td>\n",
       "      <td>Placed</td>\n",
       "      <td>Microsoft</td>\n",
       "      <td>16.0</td>\n",
       "      <td>2.0</td>\n",
       "      <td>2025-07-21</td>\n",
       "    </tr>\n",
       "    <tr>\n",
       "      <th>198</th>\n",
       "      <td>299</td>\n",
       "      <td>94</td>\n",
       "      <td>1</td>\n",
       "      <td>Placed</td>\n",
       "      <td>Amazon</td>\n",
       "      <td>29.0</td>\n",
       "      <td>5.0</td>\n",
       "      <td>2025-06-24</td>\n",
       "    </tr>\n",
       "  </tbody>\n",
       "</table>\n",
       "<p>199 rows × 8 columns</p>\n",
       "</div>"
      ],
      "text/plain": [
       "     student_id  mock_interview_score  internships_completed placement_status  \\\n",
       "0           101                    47                      3            Ready   \n",
       "1           102                    74                      2           Placed   \n",
       "2           103                    71                      1           Placed   \n",
       "3           104                    77                      0           Placed   \n",
       "4           105                    49                      1            Ready   \n",
       "..          ...                   ...                    ...              ...   \n",
       "194         295                    44                      2           Placed   \n",
       "195         296                    71                      0           Placed   \n",
       "196         297                    45                      3           Placed   \n",
       "197         298                    54                      3           Placed   \n",
       "198         299                    94                      1           Placed   \n",
       "\n",
       "    company_name  placement_package  interview_rounds_cleared placement_date  \n",
       "0           None                NaN                       NaN           None  \n",
       "1          Wipro               10.0                       2.0     2025-06-22  \n",
       "2         Amazon               22.0                       3.0     2025-07-03  \n",
       "3         Amazon               21.0                       4.0     2025-07-21  \n",
       "4           None                NaN                       NaN           None  \n",
       "..           ...                ...                       ...            ...  \n",
       "194    Capgemini               19.0                       5.0     2025-06-26  \n",
       "195    Capgemini               11.0                       4.0     2025-07-17  \n",
       "196      Infosys               11.0                       2.0     2025-07-17  \n",
       "197    Microsoft               16.0                       2.0     2025-07-21  \n",
       "198       Amazon               29.0                       5.0     2025-06-24  \n",
       "\n",
       "[199 rows x 8 columns]"
      ]
     },
     "execution_count": 19,
     "metadata": {},
     "output_type": "execute_result"
    }
   ],
   "source": [
    "placement_df"
   ]
  },
  {
   "cell_type": "code",
   "execution_count": 20,
   "id": "35c26e10",
   "metadata": {},
   "outputs": [],
   "source": [
    "placement_df.to_csv('placement_table.csv', index=False)  # Data saved to Placement_table"
   ]
  },
  {
   "cell_type": "code",
   "execution_count": 21,
   "id": "df5dd58d",
   "metadata": {},
   "outputs": [],
   "source": [
    "merged_df.to_csv('merged_table.csv', index=False)  # Data saved to Merged table"
   ]
  }
 ],
 "metadata": {
  "kernelspec": {
   "display_name": ".venv",
   "language": "python",
   "name": "python3"
  },
  "language_info": {
   "codemirror_mode": {
    "name": "ipython",
    "version": 3
   },
   "file_extension": ".py",
   "mimetype": "text/x-python",
   "name": "python",
   "nbconvert_exporter": "python",
   "pygments_lexer": "ipython3",
   "version": "3.11.3"
  }
 },
 "nbformat": 4,
 "nbformat_minor": 5
}
